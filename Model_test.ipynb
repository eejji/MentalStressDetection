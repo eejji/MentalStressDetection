{
 "cells": [
  {
   "cell_type": "code",
   "execution_count": 1,
   "id": "a7ee796a",
   "metadata": {},
   "outputs": [],
   "source": [
    "import tensorflow as tf\n",
    "import matplotlib.pyplot as plt\n",
    "from keras.preprocessing.image import ImageDataGenerator\n",
    "import numpy as np"
   ]
  },
  {
   "cell_type": "code",
   "execution_count": 2,
   "id": "c66bb0c5",
   "metadata": {},
   "outputs": [
    {
     "name": "stdout",
     "output_type": "stream",
     "text": [
      "Found 100 images belonging to 2 classes.\n"
     ]
    }
   ],
   "source": [
    "# 이미지 경로 설정\n",
    "test_data_dir = 'C:/Users/jihun/4255/OpensourceHW/pkl_result/test_1'\n",
    "\n",
    "# 이미지 데이터 전처리\n",
    "test_data_generator = ImageDataGenerator(rescale=1./255)  # 이미지 정규화\n",
    "test_data = test_data_generator.flow_from_directory(\n",
    "    test_data_dir,\n",
    "    target_size=(300, 300),  # 이미지 크기 조정\n",
    "    batch_size=16,\n",
    "    class_mode='categorical',\n",
    "    seed=10\n",
    ")\n"
   ]
  },
  {
   "cell_type": "code",
   "execution_count": 5,
   "id": "4501136e",
   "metadata": {},
   "outputs": [],
   "source": [
    "model1 = tf.keras.models.load_model('C:/Users/jihun/4255/OpensourceHW/model/raw_signal_model.h5')\n",
    "model2 = tf.keras.models.load_model('C:/Users/jihun/4255/OpensourceHW/model/spc_signal_model.h5')"
   ]
  },
  {
   "cell_type": "code",
   "execution_count": 6,
   "id": "65e17bbc",
   "metadata": {},
   "outputs": [
    {
     "name": "stdout",
     "output_type": "stream",
     "text": [
      "{'normal': 0, 'stress': 1}\n",
      "[1 1 0 1 1 0 1 0 0 1 0 0 1 1 1 1 1 0 1 0 1 1 1 0 1 1 0 1 1 1 0 1 1 1 0 0 0\n",
      " 0 0 1 0 0 1 1 1 1 0 1 1 1 1 1 1 1 0 1 1 1 1 1 1 0 1 1 0 0 1 1 1 1 0 1 0 1\n",
      " 1 1 1 1 1 1 0 1 1 0 1 1 0 0 1 0 0 1 0 1 1 1 1 1 0 0]\n",
      "tf.Tensor(0.54, shape=(), dtype=float32)\n"
     ]
    },
    {
     "data": {
      "image/png": "[encoded data removed]",
      "text/plain": [
       "<Figure size 640x480 with 1 Axes>"
      ]
     },
     "metadata": {},
     "output_type": "display_data"
    }
   ],
   "source": [
    "# 테스트 데이터 예측\n",
    "predictions = model1.predict(test_data)\n",
    "\n",
    "class_labels= test_data.class_indices\n",
    "print(class_labels)\n",
    "\n",
    "y_true = test_data.labels\n",
    "y_pred = predictions > 0.5\n",
    "\n",
    "threshold = 0.5\n",
    "y_pred = np.where(y_pred[:,1] >= threshold, 1,0)\n",
    "print(y_pred)\n",
    "\n",
    "metric = tf.keras.metrics.BinaryAccuracy()\n",
    "accuracy = metric(y_true, y_pred)\n",
    "print(accuracy)\n",
    "\n",
    "confusion_matrix = tf.math.confusion_matrix(y_true, y_pred)\n",
    "confusion_matrix = np.array(confusion_matrix)\n",
    "\n",
    "plt.imshow(confusion_matrix, interpolation='nearest', cmap=plt.cm.Blues)\n",
    "plt.title('spectogram data confusion matrix')\n",
    "plt.xlabel('predict')\n",
    "plt.ylabel('true')\n",
    "\n",
    "# 혼동 행렬의 각 셀에 레이블을 추가합니다.\n",
    "thresh = confusion_matrix.max() / 2.0\n",
    "for i in range(confusion_matrix.shape[0]):\n",
    "    for j in range(confusion_matrix.shape[1]):\n",
    "        plt.text(j, i, format(confusion_matrix[i, j], 'd'),\n",
    "                 horizontalalignment=\"center\",\n",
    "                 color=\"white\" if confusion_matrix[i, j] > thresh else \"black\")\n",
    "\n",
    "# x축과 y축에 0과 1을 표시합니다.\n",
    "plt.xticks([0, 1])\n",
    "plt.yticks([0, 1])\n",
    "\n",
    "plt.show()"
   ]
  },
  {
   "cell_type": "code",
   "execution_count": 7,
   "id": "152b6e0b",
   "metadata": {},
   "outputs": [
    {
     "name": "stdout",
     "output_type": "stream",
     "text": [
      "{'normal': 0, 'stress': 1}\n",
      "[1 1 1 1 1 1 1 1 1 1 1 1 1 1 1 1 1 1 1 1 1 1 1 1 1 1 1 1 1 1 1 1 1 1 1 1 1\n",
      " 1 1 1 1 1 1 1 1 1 1 1 1 1 1 1 1 1 1 1 1 1 1 1 1 1 1 1 1 1 1 1 1 1 1 1 1 1\n",
      " 1 1 1 1 1 1 1 1 1 1 1 1 1 1 1 1 1 1 1 1 1 1 1 1 1 1]\n",
      "tf.Tensor(0.5, shape=(), dtype=float32)\n"
     ]
    },
    {
     "data": {
      "image/png": "[encoded data removed]",
      "text/plain": [
       "<Figure size 640x480 with 1 Axes>"
      ]
     },
     "metadata": {},
     "output_type": "display_data"
    }
   ],
   "source": [
    "# 테스트 데이터 예측\n",
    "predictions = model2.predict(test_data)\n",
    "\n",
    "class_labels= test_data.class_indices\n",
    "print(class_labels)\n",
    "\n",
    "y_true = test_data.labels\n",
    "y_pred = predictions > 0.5\n",
    "\n",
    "threshold = 0.5\n",
    "y_pred = np.where(y_pred[:,1] >= threshold, 1,0)\n",
    "print(y_pred)\n",
    "\n",
    "metric = tf.keras.metrics.BinaryAccuracy()\n",
    "accuracy = metric(y_true, y_pred)\n",
    "print(accuracy)\n",
    "\n",
    "confusion_matrix = tf.math.confusion_matrix(y_true, y_pred)\n",
    "confusion_matrix = np.array(confusion_matrix)\n",
    "\n",
    "plt.imshow(confusion_matrix, interpolation='nearest', cmap=plt.cm.Blues)\n",
    "plt.title('spectogram data confusion matrix')\n",
    "plt.xlabel('predict')\n",
    "plt.ylabel('true')\n",
    "\n",
    "# 혼동 행렬의 각 셀에 레이블을 추가합니다.\n",
    "thresh = confusion_matrix.max() / 2.0\n",
    "for i in range(confusion_matrix.shape[0]):\n",
    "    for j in range(confusion_matrix.shape[1]):\n",
    "        plt.text(j, i, format(confusion_matrix[i, j], 'd'),\n",
    "                 horizontalalignment=\"center\",\n",
    "                 color=\"white\" if confusion_matrix[i, j] > thresh else \"black\")\n",
    "\n",
    "# x축과 y축에 0과 1을 표시합니다.\n",
    "plt.xticks([0, 1])\n",
    "plt.yticks([0, 1])\n",
    "\n",
    "plt.show()"
   ]
  },
  {
   "cell_type": "code",
   "execution_count": null,
   "id": "81861cc1",
   "metadata": {},
   "outputs": [],
   "source": []
  },
  {
   "cell_type": "code",
   "execution_count": null,
   "id": "27c62cd6",
   "metadata": {},
   "outputs": [],
   "source": []
  },
  {
   "cell_type": "code",
   "execution_count": null,
   "id": "4ecee5f3",
   "metadata": {},
   "outputs": [],
   "source": []
  },
  {
   "cell_type": "code",
   "execution_count": null,
   "id": "0ed035b3",
   "metadata": {},
   "outputs": [],
   "source": []
  },
  {
   "cell_type": "code",
   "execution_count": null,
   "id": "45fe4e18",
   "metadata": {},
   "outputs": [],
   "source": []
  }
 ],
 "metadata": {
  "kernelspec": {
   "display_name": "gpu",
   "language": "python",
   "name": "ecg"
  },
  "language_info": {
   "codemirror_mode": {
    "name": "ipython",
    "version": 3
   },
   "file_extension": ".py",
   "mimetype": "text/x-python",
   "name": "python",
   "nbconvert_exporter": "python",
   "pygments_lexer": "ipython3",
   "version": "3.7.16"
  }
 },
 "nbformat": 4,
 "nbformat_minor": 5
}
